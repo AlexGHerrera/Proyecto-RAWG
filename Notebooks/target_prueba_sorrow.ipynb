{
 "cells": [
  {
   "cell_type": "code",
   "execution_count": null,
   "id": "4bbed441-e2ae-4c09-b0d7-a477afbddc82",
   "metadata": {},
   "outputs": [],
   "source": [
    "1. Objetivo razonable basado en datos disponibles\n",
    "Con solo tu JSON, podemos apoyarnos en tres métricas clave:\n",
    "\n",
    "Rating general (rating + distribución de ratings)\n",
    "\n",
    "Número de reseñas (ratings_count, reviews_count)\n",
    "\n",
    "Playtime promedio\n",
    "\n",
    "Estas tres variables te permitirán definir umbrales comparativos.\n",
    "\n",
    "(Las reseñas se tienen que valorar porque no hay muchos datos, contienen muchos null. hacer comprobación)"
   ]
  },
  {
   "cell_type": "code",
   "execution_count": null,
   "id": "d4700707-e670-4923-990c-916c460fafe1",
   "metadata": {},
   "outputs": [],
   "source": [
    "Benchmarks públicos para comparar 🎮\n",
    "\n",
    "\n",
    "🔹 Número de reseñas vs ventas\n",
    "La proporción típica en Steam indica que por cada reseña hay alrededor de 35 ventas (ratio ventas/reseñas ≈ 35) \n",
    "Reddit\n",
    ".\n",
    "\n",
    "Aunque varía, es un indicador indirecto de adopción.\n",
    "\n",
    "🔹 Tiempo de juego promedio\n",
    "En móviles, medianas de playtime diario son 22 min, pero en el top 2 % llega a 4 horas por día \n",
    "devtodev.com\n",
    "+1\n",
    "appfollow.io\n",
    "+1\n",
    ".\n",
    "\n",
    "En juegos “triples AAA” como GTA, una media de 74 horas totales es altísima."
   ]
  },
  {
   "cell_type": "code",
   "execution_count": null,
   "id": "b0a53565-6470-43b1-8090-4f9fa3bc4a57",
   "metadata": {},
   "outputs": [],
   "source": [
    "Paso a paso para definir tu target con lo que tienes\n",
    "\n",
    "\n",
    "Suficiente cantidad de reseñas\n",
    "Tienes ratings_count: 7156, reviews_count: 7271.\n",
    "\n",
    "Comparado con ratio ventas/reseña ≈ 35: supondría ventas en rango de millones, típico de juegos exitosos \n",
    "\n",
    "Target: > 500 reseñas (como mínimo decenas de miles de ventas). Cumple ampliamente.\n",
    "\n",
    "Engagement via playtime\n",
    "Playtime promedio: 74 horas extremadamente por encima de un juego promedio.\n",
    "\n",
    "Benchmark: medianas diarias 22 min (≈ 0.4 h), top 2 % móviles llegan a 4 h/día.\n",
    "\n",
    "Aunque es diferente plataforma, 74 h totales indica gran engagement \n",
    "devtodev.com\n",
    ".\n",
    "\n",
    "Target: playtime medio > 20–30 h → cumple."
   ]
  },
  {
   "cell_type": "code",
   "execution_count": null,
   "id": "704c8d30-995f-4589-b4a8-36dbd8db1a67",
   "metadata": {},
   "outputs": [],
   "source": [
    "resumen de tu target\n",
    "Métrica\tBenchmark mínimo\tTu dato\t¿Cumple?\n",
    "Rating general (media y %+)\t≥ 4.4/5 (~≥ 89/100, ≥ 90 % positivas)\t4.47 y 92 % positivas (≈ 59 + 32 = 91.7 %)\t✅\n",
    "Cantidad de reseñas\t> 500 (idealmente miles)\t7.200+\t✅\n",
    "Playtime medio\t> 20–30 h\t74 h\t✅"
   ]
  },
  {
   "cell_type": "code",
   "execution_count": null,
   "id": "dba966a2-d4da-4cfd-96ad-670c73b4c1ea",
   "metadata": {},
   "outputs": [],
   "source": [
    "aqui pruebo añadiendo el owned y demás."
   ]
  },
  {
   "cell_type": "code",
   "execution_count": null,
   "id": "14acc4f5-4632-40e8-9713-e35cf54a8d69",
   "metadata": {},
   "outputs": [],
   "source": [
    "Define objetivos o umbrales target para cada métrica\n",
    "Opciones de target razonables:\n",
    "Owned: debe estar por encima de un mínimo absoluto para considerarse tracción visible, por ejemplo ≥ 1.000 usuarios.\n",
    "\n",
    "Beaten/Owned ratio: proporción de quienes han terminado el juego: beaten ÷ owned. Un ratio alto indica jugabilidad satisfactoria. Ejemplo target: ≥ 0.4 (40 %).\n",
    "\n",
    "Dropped/Owned ratio: tasa de abandono: dropped ÷ owned. Un ratio bajo es positivo. Ejemplo target: ≤ 0.1 (10 %).\n",
    "\n",
    "Suggestions_count: número de veces sugerido: benchmark mínimo, por ejemplo ≥ 100, para señalar visibilidad frecuente."
   ]
  },
  {
   "cell_type": "code",
   "execution_count": null,
   "id": "7651aec0-980f-4708-89fd-4b5f23d58991",
   "metadata": {},
   "outputs": [],
   "source": [
    "Cálculo con tus datos\n",
    "Métrica\tValor real\tCálculo / ratio\tBenchmark\t¿Cumple?\n",
    "Owned\t 12739\t–\t≥ 1.000\t✅\n",
    "Beaten percentage\t 6284 / 12739 ≈ 0.49\t≈ 49 % terminan el juego\t ≥ 40 %\t✅\n",
    "Dropped percentage\t 1163 / 12739 ≈ 0.091\t≈ 9.1 % abandonan antes de terminar\t ≤ 10 %\t✅\n",
    "Suggestion count\t 441\t–\t ≥ 100\t✅\n"
   ]
  },
  {
   "cell_type": "code",
   "execution_count": null,
   "id": "9f53cba7-67a4-4c61-a442-4b9aeb97e26d",
   "metadata": {},
   "outputs": [],
   "source": [
    "Reconstrucción del target completo \n",
    "✅ Target de éxito si se cumple todo:\n",
    "Rating ≥ 4.4/5 y ≥ 90 % reseñas positivas.\n",
    "\n",
    "Ratings_count ≥ 500.\n",
    "\n",
    "Playtime medio ≥ 20 h.\n",
    "\n",
    "Owned ≥ 1.000.\n",
    "\n",
    "Beaten/Owned ≥ 0.4 (≥ 40 %).\n",
    "\n",
    "Dropped/Owned ≤ 0.1 (≤ 10 %).\n",
    "\n",
    "Suggestions_count ≥ 100.\n",
    "\n",
    "Si un juego cumple casi todos o todos los criterios, lo puedes considerar exitoso desde la perspectiva de engagement, satisfacción y adopción dentro de RAWG.\n",
    "\n"
   ]
  },
  {
   "cell_type": "code",
   "execution_count": null,
   "id": "1d9218ec-4a2b-47bf-b7da-6ebfbacad564",
   "metadata": {},
   "outputs": [],
   "source": [
    "Interpretación rápida para GTA V\n",
    "Owned: 12.739 → buena base de usuarios.\n",
    "\n",
    "Beaten ratio: 49 % → sólida finalización.\n",
    "\n",
    "Dropped ratio: 9.1 % → abandono controlado.\n",
    "\n",
    "Suggestions_count: 441 → alta visibilidad sugerida.\n",
    "\n",
    "Combinado con ratings muy positivos, muchas reseñas y playtime alto, GTA V encaja perfectamente dentro de tu definición de éxito ✅.\n"
   ]
  },
  {
   "cell_type": "code",
   "execution_count": null,
   "id": "faa29125-21a3-4c8d-a695-8c3b4204ed68",
   "metadata": {},
   "outputs": [],
   "source": [
    "5. Aplicación para otros títulos\n",
    "Cuando tengas datos de otro juego en formato JSON similar, aplica estos pasos:\n",
    "\n",
    "Extrae added_by_status.owned, .beaten, .dropped y suggestions_count.\n",
    "\n",
    "Calcula las proporciones beaten/owned y dropped/owned.\n",
    "\n",
    "Compara con tus umbrales target.\n",
    "\n",
    "Consulta rating, reseñas y playtime si también disponibles.\n",
    "\n",
    "Esto te permitirá determinar fácilmente si ese juego alcanza tu definición de éxito."
   ]
  },
  {
   "cell_type": "code",
   "execution_count": null,
   "id": "e37f8b18-c5fb-40f4-aa61-9ee24e8504e6",
   "metadata": {},
   "outputs": [],
   "source": [
    "df['beaten_ratio'] = df['beaten'] / df['owned']\n",
    "df['dropped_ratio'] = df['dropped'] / df['owned']\n",
    "df['rating_positive_pct'] = (df['percent_exceptional'] + df['percent_recommended']) / 100"
   ]
  },
  {
   "cell_type": "code",
   "execution_count": null,
   "id": "d4815127-ce5c-46b2-836e-f00e00bf9963",
   "metadata": {},
   "outputs": [],
   "source": [
    "df['success'] = ((df['rating'] >= 4.4) &\n",
    "                 (df['rating_positive_pct'] >= 0.9) &\n",
    "                 (df['ratings_count'] >= 500) &\n",
    "                 (df['playtime'] >= 20) &\n",
    "                 (df['owned'] >= 1000) &\n",
    "                 (df['beaten_ratio'] >= 0.4) &\n",
    "                 (df['dropped_ratio'] <= 0.1) &\n",
    "                 (df['suggestions_count'] >= 100)).astype(int)"
   ]
  },
  {
   "cell_type": "code",
   "execution_count": null,
   "id": "960e91a6-f3c8-4bb0-90e0-92f12376bcfc",
   "metadata": {},
   "outputs": [],
   "source": [
    "features = [\n",
    "    'rating', 'rating_positive_pct', 'ratings_count',\n",
    "    'playtime', 'owned', 'beaten_ratio',\n",
    "    'dropped_ratio', 'suggestions_count'\n",
    "]"
   ]
  }
 ],
 "metadata": {
  "kernelspec": {
   "display_name": "Python 3 (ipykernel)",
   "language": "python",
   "name": "python3"
  },
  "language_info": {
   "codemirror_mode": {
    "name": "ipython",
    "version": 3
   },
   "file_extension": ".py",
   "mimetype": "text/x-python",
   "name": "python",
   "nbconvert_exporter": "python",
   "pygments_lexer": "ipython3",
   "version": "3.12.7"
  }
 },
 "nbformat": 4,
 "nbformat_minor": 5
}
