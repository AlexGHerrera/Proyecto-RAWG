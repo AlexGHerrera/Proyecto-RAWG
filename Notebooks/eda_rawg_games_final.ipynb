{
 "cells": [
  {
   "cell_type": "markdown",
   "id": "79f5920a",
   "metadata": {
    "cell_marker": "\"\"\""
   },
   "source": [
    "# EDA RAWG Game Success Prediction - Versión Final\n",
    "\n",
    "Este notebook realiza el análisis exploratorio de datos (EDA) para el proyecto de predicción de éxito de videojuegos usando datos de RAWG.\n",
    "Incluye conexión segura, consultas SQL optimizadas, visualizaciones completas y separación clara de features de diseño."
   ]
  },
  {
   "cell_type": "markdown",
   "id": "24f14ad6",
   "metadata": {
    "cell_marker": "\"\"\"",
    "lines_to_next_cell": 0
   },
   "source": [
    "## 1. Imports y configuración inicial"
   ]
  },
  {
   "cell_type": "code",
   "execution_count": 44,
   "id": "4dfaafda",
   "metadata": {},
   "outputs": [
    {
     "name": "stdout",
     "output_type": "stream",
     "text": [
      "Librerias importadas correctamente\n"
     ]
    }
   ],
   "source": [
    "import os\n",
    "import sys\n",
    "import pandas as pd\n",
    "import numpy as np\n",
    "import matplotlib.pyplot as plt\n",
    "import seaborn as sns\n",
    "from sqlalchemy import create_engine, text\n",
    "from dotenv import load_dotenv\n",
    "\n",
    "# Configuración de visualización\n",
    "ds_palette = sns.color_palette(\"Set2\")\n",
    "sns.set(style=\"whitegrid\", palette=ds_palette)\n",
    "plt.rcParams['figure.figsize'] = (10, 6)\n",
    "print(\"Librerias importadas correctamente\")"
   ]
  },
  {
   "cell_type": "markdown",
   "id": "641e76d7",
   "metadata": {
    "cell_marker": "\"\"\"",
    "lines_to_next_cell": 0
   },
   "source": [
    "## 2. Carga y validación de variables de entorno"
   ]
  },
  {
   "cell_type": "code",
   "execution_count": 45,
   "id": "7600024f",
   "metadata": {},
   "outputs": [
    {
     "name": "stdout",
     "output_type": "stream",
     "text": [
      "Variables de entorno cargadas correctamente\n"
     ]
    }
   ],
   "source": [
    "load_dotenv()\n",
    "REQUIRED_ENV_VARS = [\"DB_USER\", \"DB_PASS\", \"DB_HOST\", \"DB_PORT\", \"DB_NAME\"]\n",
    "missing_vars = [var for var in REQUIRED_ENV_VARS if os.getenv(var) is None]\n",
    "if missing_vars:\n",
    "    print(f\"[ERROR] Faltan variables de entorno requeridas: {missing_vars}\")\n",
    "    sys.exit(1)\n",
    "\n",
    "DB_USER = os.getenv(\"DB_USER\")\n",
    "DB_PASS = os.getenv(\"DB_PASS\")\n",
    "DB_HOST = os.getenv(\"DB_HOST\")\n",
    "DB_PORT = os.getenv(\"DB_PORT\")\n",
    "DB_NAME = os.getenv(\"DB_NAME\")\n",
    "print(\"Variables de entorno cargadas correctamente\")"
   ]
  },
  {
   "cell_type": "markdown",
   "id": "c6418f61",
   "metadata": {
    "cell_marker": "\"\"\"",
    "lines_to_next_cell": 0
   },
   "source": [
    "## 3. Funciones de conexión segura y ejecución de queries"
   ]
  },
  {
   "cell_type": "code",
   "execution_count": 46,
   "id": "7d9abbe8",
   "metadata": {},
   "outputs": [
    {
     "name": "stdout",
     "output_type": "stream",
     "text": [
      "Funciones de conexion SQLAlchemy definidas\n"
     ]
    }
   ],
   "source": [
    "def get_db_engine():\n",
    "    \"\"\"Crear engine de SQLAlchemy para conexión a PostgreSQL\"\"\"\n",
    "    try:\n",
    "        connection_string = f\"postgresql://{DB_USER}:{DB_PASS}@{DB_HOST}:{DB_PORT}/{DB_NAME}\"\n",
    "        engine = create_engine(connection_string)\n",
    "        return engine\n",
    "    except Exception as e:\n",
    "        print(f\"[ERROR] No se pudo crear el engine de base de datos: {e}\")\n",
    "        sys.exit(1)\n",
    "\n",
    "def run_query(query, params=None):\n",
    "    \"\"\"Ejecutar query usando SQLAlchemy (elimina warnings de pandas)\"\"\"\n",
    "    engine = get_db_engine()\n",
    "    try:\n",
    "        # Usar text() para queries SQL con SQLAlchemy\n",
    "        df = pd.read_sql_query(text(query), engine, params=params)\n",
    "        return df\n",
    "    except Exception as e:\n",
    "        print(f\"[ERROR] Error ejecutando query: {e}\")\n",
    "        return pd.DataFrame()\n",
    "    finally:\n",
    "        engine.dispose()\n",
    "\n",
    "print(\"Funciones de conexion SQLAlchemy definidas\")"
   ]
  },
  {
   "cell_type": "markdown",
   "id": "a2e6b52a",
   "metadata": {
    "cell_marker": "\"\"\""
   },
   "source": [
    "## 4. Calidad de datos y filtros iniciales\n",
    "\n",
    "Antes de cualquier modelado, es fundamental entender la completitud y calidad de los datos:"
   ]
  },
  {
   "cell_type": "code",
   "execution_count": 47,
   "id": "204baa67",
   "metadata": {},
   "outputs": [
    {
     "name": "stdout",
     "output_type": "stream",
     "text": [
      "Resumen de calidad de datos:\n"
     ]
    },
    {
     "data": {
      "text/html": [
       "<div>\n",
       "<style scoped>\n",
       "    .dataframe tbody tr th:only-of-type {\n",
       "        vertical-align: middle;\n",
       "    }\n",
       "\n",
       "    .dataframe tbody tr th {\n",
       "        vertical-align: top;\n",
       "    }\n",
       "\n",
       "    .dataframe thead th {\n",
       "        text-align: right;\n",
       "    }\n",
       "</style>\n",
       "<table border=\"1\" class=\"dataframe\">\n",
       "  <thead>\n",
       "    <tr style=\"text-align: right;\">\n",
       "      <th></th>\n",
       "      <th>Cantidad</th>\n",
       "    </tr>\n",
       "  </thead>\n",
       "  <tbody>\n",
       "    <tr>\n",
       "      <th>total_juegos</th>\n",
       "      <td>889786</td>\n",
       "    </tr>\n",
       "    <tr>\n",
       "      <th>con_fecha_lanzamiento</th>\n",
       "      <td>860652</td>\n",
       "    </tr>\n",
       "    <tr>\n",
       "      <th>con_rating</th>\n",
       "      <td>889786</td>\n",
       "    </tr>\n",
       "    <tr>\n",
       "      <th>con_engagement</th>\n",
       "      <td>109372</td>\n",
       "    </tr>\n",
       "    <tr>\n",
       "      <th>en_rango_temporal</th>\n",
       "      <td>76272</td>\n",
       "    </tr>\n",
       "  </tbody>\n",
       "</table>\n",
       "</div>"
      ],
      "text/plain": [
       "                       Cantidad\n",
       "total_juegos             889786\n",
       "con_fecha_lanzamiento    860652\n",
       "con_rating               889786\n",
       "con_engagement           109372\n",
       "en_rango_temporal         76272"
      ]
     },
     "metadata": {},
     "output_type": "display_data"
    }
   ],
   "source": [
    "quality_query = '''\n",
    "SELECT \n",
    "    COUNT(*) AS total_juegos,\n",
    "    COUNT(released) AS con_fecha_lanzamiento,\n",
    "    COUNT(rating) AS con_rating,\n",
    "    COUNT(CASE WHEN added > 0 THEN 1 END) AS con_engagement,\n",
    "    COUNT(CASE WHEN released IS NOT NULL AND rating IS NOT NULL AND added > 0 \n",
    "           AND EXTRACT(YEAR FROM released) BETWEEN 2010 AND 2024 THEN 1 END) AS en_rango_temporal\n",
    "FROM games;\n",
    "'''\n",
    "df_quality = run_query(quality_query)\n",
    "print(\"Resumen de calidad de datos:\")\n",
    "display(df_quality.T.rename(columns={0:'Cantidad'}))"
   ]
  },
  {
   "cell_type": "markdown",
   "id": "26fba888",
   "metadata": {
    "cell_marker": "\"\"\""
   },
   "source": [
    "**Interpretación:**\n",
    "- **Total juegos en BD**: Todos los registros en la tabla principal\n",
    "- **Con fecha de lanzamiento**: Juegos con released no nulo\n",
    "- **Con rating válido**: Juegos con rating no nulo\n",
    "- **Con engagement (added > 0)**: Juegos con al menos una interacción de usuario\n",
    "- **En rango temporal 2010-2024**: Juegos recientes y relevantes para el mercado actual\n",
    "\n",
    "> Estos filtros aseguran que el análisis y el modelo se basen en datos representativos y de calidad."
   ]
  },
  {
   "cell_type": "markdown",
   "id": "f2b36eb8",
   "metadata": {
    "cell_marker": "\"\"\"",
    "lines_to_next_cell": 0
   },
   "source": [
    "## 5. Análisis de nulos y selección de features de diseño\n",
    "\n",
    "Analizamos la completitud de las columnas principales y justificamos la selección de features de diseño disponibles en la fase de planificación del juego."
   ]
  },
  {
   "cell_type": "code",
   "execution_count": 48,
   "id": "db60a30d",
   "metadata": {},
   "outputs": [
    {
     "name": "stdout",
     "output_type": "stream",
     "text": [
      "Porcentaje de nulos por columna (incluyendo features de diseño):\n"
     ]
    },
    {
     "data": {
      "text/html": [
       "<div>\n",
       "<style scoped>\n",
       "    .dataframe tbody tr th:only-of-type {\n",
       "        vertical-align: middle;\n",
       "    }\n",
       "\n",
       "    .dataframe tbody tr th {\n",
       "        vertical-align: top;\n",
       "    }\n",
       "\n",
       "    .dataframe thead th {\n",
       "        text-align: right;\n",
       "    }\n",
       "</style>\n",
       "<table border=\"1\" class=\"dataframe\">\n",
       "  <thead>\n",
       "    <tr style=\"text-align: right;\">\n",
       "      <th></th>\n",
       "      <th>columna</th>\n",
       "      <th>porcentaje_nulos</th>\n",
       "      <th>descripcion</th>\n",
       "    </tr>\n",
       "  </thead>\n",
       "  <tbody>\n",
       "    <tr>\n",
       "      <th>0</th>\n",
       "      <td>metacritic</td>\n",
       "      <td>99.20</td>\n",
       "      <td>Puntuación Metacritic (post-lanzamiento)</td>\n",
       "    </tr>\n",
       "    <tr>\n",
       "      <th>1</th>\n",
       "      <td>esrb_rating_id</td>\n",
       "      <td>92.06</td>\n",
       "      <td>Clasificación ESRB (feature de diseño)</td>\n",
       "    </tr>\n",
       "    <tr>\n",
       "      <th>2</th>\n",
       "      <td>released</td>\n",
       "      <td>3.27</td>\n",
       "      <td>Fecha de lanzamiento</td>\n",
       "    </tr>\n",
       "    <tr>\n",
       "      <th>3</th>\n",
       "      <td>rating</td>\n",
       "      <td>0.00</td>\n",
       "      <td>Rating promedio (post-lanzamiento)</td>\n",
       "    </tr>\n",
       "    <tr>\n",
       "      <th>4</th>\n",
       "      <td>added</td>\n",
       "      <td>0.00</td>\n",
       "      <td>Engagement total (post-lanzamiento)</td>\n",
       "    </tr>\n",
       "  </tbody>\n",
       "</table>\n",
       "</div>"
      ],
      "text/plain": [
       "          columna  porcentaje_nulos                               descripcion\n",
       "0      metacritic             99.20  Puntuación Metacritic (post-lanzamiento)\n",
       "1  esrb_rating_id             92.06    Clasificación ESRB (feature de diseño)\n",
       "2        released              3.27                      Fecha de lanzamiento\n",
       "3          rating              0.00        Rating promedio (post-lanzamiento)\n",
       "4           added              0.00       Engagement total (post-lanzamiento)"
      ]
     },
     "metadata": {},
     "output_type": "display_data"
    },
    {
     "name": "stdout",
     "output_type": "stream",
     "text": [
      "\n",
      "Análisis de completitud para features calculadas:\n"
     ]
    },
    {
     "data": {
      "text/html": [
       "<div>\n",
       "<style scoped>\n",
       "    .dataframe tbody tr th:only-of-type {\n",
       "        vertical-align: middle;\n",
       "    }\n",
       "\n",
       "    .dataframe tbody tr th {\n",
       "        vertical-align: top;\n",
       "    }\n",
       "\n",
       "    .dataframe thead th {\n",
       "        text-align: right;\n",
       "    }\n",
       "</style>\n",
       "<table border=\"1\" class=\"dataframe\">\n",
       "  <thead>\n",
       "    <tr style=\"text-align: right;\">\n",
       "      <th></th>\n",
       "      <th>feature</th>\n",
       "      <th>total_juegos</th>\n",
       "      <th>sin_generos</th>\n",
       "      <th>porcentaje_sin_datos</th>\n",
       "    </tr>\n",
       "  </thead>\n",
       "  <tbody>\n",
       "    <tr>\n",
       "      <th>0</th>\n",
       "      <td>n_genres</td>\n",
       "      <td>889786</td>\n",
       "      <td>213355</td>\n",
       "      <td>23.98</td>\n",
       "    </tr>\n",
       "    <tr>\n",
       "      <th>1</th>\n",
       "      <td>n_platforms</td>\n",
       "      <td>889786</td>\n",
       "      <td>4226</td>\n",
       "      <td>0.47</td>\n",
       "    </tr>\n",
       "    <tr>\n",
       "      <th>2</th>\n",
       "      <td>n_tags</td>\n",
       "      <td>889786</td>\n",
       "      <td>98272</td>\n",
       "      <td>11.04</td>\n",
       "    </tr>\n",
       "  </tbody>\n",
       "</table>\n",
       "</div>"
      ],
      "text/plain": [
       "       feature  total_juegos  sin_generos  porcentaje_sin_datos\n",
       "0     n_genres        889786       213355                 23.98\n",
       "1  n_platforms        889786         4226                  0.47\n",
       "2       n_tags        889786        98272                 11.04"
      ]
     },
     "metadata": {},
     "output_type": "display_data"
    }
   ],
   "source": [
    "# Análisis de nulos para todas las features de diseño y columnas relevantes\n",
    "nulls_query = '''\n",
    "WITH feature_nulls AS (\n",
    "  SELECT \n",
    "    'released' as columna, \n",
    "    ROUND(100.0 * (COUNT(*) - COUNT(released)) / COUNT(*), 2) AS porcentaje_nulos,\n",
    "    'Fecha de lanzamiento' as descripcion\n",
    "  FROM games\n",
    "  \n",
    "  UNION ALL \n",
    "  SELECT 'esrb_rating_id', \n",
    "    ROUND(100.0 * (COUNT(*) - COUNT(esrb_rating_id)) / COUNT(*), 2),\n",
    "    'Clasificación ESRB (feature de diseño)'\n",
    "  FROM games\n",
    "  \n",
    "  UNION ALL\n",
    "  SELECT 'rating', \n",
    "    ROUND(100.0 * (COUNT(*) - COUNT(rating)) / COUNT(*), 2),\n",
    "    'Rating promedio (post-lanzamiento)'\n",
    "  FROM games\n",
    "  \n",
    "  UNION ALL\n",
    "  SELECT 'added', \n",
    "    ROUND(100.0 * (COUNT(*) - COUNT(added)) / COUNT(*), 2),\n",
    "    'Engagement total (post-lanzamiento)'\n",
    "  FROM games\n",
    "  \n",
    "  UNION ALL\n",
    "  SELECT 'metacritic', \n",
    "    ROUND(100.0 * (COUNT(*) - COUNT(metacritic)) / COUNT(*), 2),\n",
    "    'Puntuación Metacritic (post-lanzamiento)'\n",
    "  FROM games\n",
    ")\n",
    "SELECT columna, porcentaje_nulos, descripcion\n",
    "FROM feature_nulls\n",
    "ORDER BY porcentaje_nulos DESC;\n",
    "'''\n",
    "df_nulls = run_query(nulls_query)\n",
    "print(\"Porcentaje de nulos por columna (incluyendo features de diseño):\")\n",
    "display(df_nulls)\n",
    "\n",
    "# Análisis específico de features calculadas (n_genres, n_platforms, n_tags)\n",
    "print(\"\\nAnálisis de completitud para features calculadas:\")\n",
    "features_calculadas_query = '''\n",
    "SELECT \n",
    "  'n_genres' as feature,\n",
    "  COUNT(*) as total_juegos,\n",
    "  COUNT(CASE WHEN gg.n_genres IS NULL OR gg.n_genres = 0 THEN 1 END) as sin_generos,\n",
    "  ROUND(100.0 * COUNT(CASE WHEN gg.n_genres IS NULL OR gg.n_genres = 0 THEN 1 END) / COUNT(*), 2) as porcentaje_sin_datos\n",
    "FROM games g\n",
    "LEFT JOIN (SELECT id_game, COUNT(*) as n_genres FROM game_genres GROUP BY id_game) gg ON g.id_game = gg.id_game\n",
    "\n",
    "UNION ALL\n",
    "\n",
    "SELECT \n",
    "  'n_platforms',\n",
    "  COUNT(*),\n",
    "  COUNT(CASE WHEN gp.n_platforms IS NULL OR gp.n_platforms = 0 THEN 1 END),\n",
    "  ROUND(100.0 * COUNT(CASE WHEN gp.n_platforms IS NULL OR gp.n_platforms = 0 THEN 1 END) / COUNT(*), 2)\n",
    "FROM games g\n",
    "LEFT JOIN (SELECT id_game, COUNT(*) as n_platforms FROM game_platforms GROUP BY id_game) gp ON g.id_game = gp.id_game\n",
    "\n",
    "UNION ALL\n",
    "\n",
    "SELECT \n",
    "  'n_tags',\n",
    "  COUNT(*),\n",
    "  COUNT(CASE WHEN gt.n_tags IS NULL OR gt.n_tags = 0 THEN 1 END),\n",
    "  ROUND(100.0 * COUNT(CASE WHEN gt.n_tags IS NULL OR gt.n_tags = 0 THEN 1 END) / COUNT(*), 2)\n",
    "FROM games g\n",
    "LEFT JOIN (SELECT id_game, COUNT(*) as n_tags FROM game_tags GROUP BY id_game) gt ON g.id_game = gt.id_game;\n",
    "'''\n",
    "df_features_calc = run_query(features_calculadas_query)\n",
    "display(df_features_calc)"
   ]
  },
  {
   "cell_type": "markdown",
   "id": "c0279565",
   "metadata": {
    "cell_marker": "\"\"\""
   },
   "source": [
    "### Justificación de Features de Diseño Seleccionadas\n",
    "\n",
    "Para el modelo predictivo, seleccionamos features que estén disponibles durante la fase de diseño del juego:\n",
    "\n",
    "#### Features de Diseño (Disponibles en Planificación):\n",
    "- **n_genres**: Número de géneros asignados - Define la audiencia objetivo\n",
    "- **n_platforms**: Número de plataformas objetivo - Determina el alcance de mercado\n",
    "- **n_tags**: Número de etiquetas descriptivas - Indica riqueza de características\n",
    "- **esrb_rating_id**: Clasificación por edad - Segmenta el mercado objetivo\n",
    "- **release_year**: Año de lanzamiento planeado - Captura tendencias temporales\n",
    "\n",
    "#### Features Descartadas (Post-Lanzamiento):\n",
    "- **rating**: Solo disponible después del lanzamiento\n",
    "- **added**: Métrica de engagement post-lanzamiento\n",
    "- **metacritic**: Puntuación de críticos posterior al lanzamiento\n",
    "\n",
    "#### Justificación del Enfoque Numérico vs Categórico:\n",
    "\n",
    "**Por qué usamos conteos (n_genres, n_platforms, n_tags) en lugar de categorías individuales:**\n",
    "\n",
    "1. **Dimensionalidad**: Los géneros individuales crearían cientos de variables dummy, aumentando la complejidad del modelo sin garantizar mejor rendimiento.\n",
    "\n",
    "2. **Generalización**: El número de géneros captura la **diversidad** del juego, que es más predictiva que géneros específicos. Un juego con 3 géneros indica mayor amplitud de audiencia que uno con 1 género.\n",
    "\n",
    "3. **Robustez**: Los conteos son menos sensibles a géneros raros o nuevos que no estaban en el conjunto de entrenamiento.\n",
    "\n",
    "4. **Interpretabilidad**: Es más fácil interpretar \"más plataformas = mayor alcance\" que analizar combinaciones complejas de plataformas específicas.\n",
    "\n",
    ">**Principio clave**: El modelo debe predecir el éxito usando únicamente información disponible antes del desarrollo completo del juego."
   ]
  },
  {
   "cell_type": "code",
   "execution_count": 49,
   "id": "5b11987d",
   "metadata": {},
   "outputs": [
    {
     "name": "stderr",
     "output_type": "stream",
     "text": [
      "/var/folders/0m/c3d7hzxn2wq1v9csxnbrh8kw0000gn/T/ipykernel_18844/2680362296.py:3: FutureWarning: \n",
      "\n",
      "Passing `palette` without assigning `hue` is deprecated and will be removed in v0.14.0. Assign the `x` variable to `hue` and set `legend=False` for the same effect.\n",
      "\n",
      "  sns.barplot(data=df_nulls, x='columna', y='porcentaje_nulos', palette='Reds_r')\n"
     ]
    },
    {
     "data": {
      "image/png": "[encoded data removed]",
      "text/plain": [
       "<Figure size 1200x500 with 1 Axes>"
      ]
     },
     "metadata": {},
     "output_type": "display_data"
    },
    {
     "name": "stderr",
     "output_type": "stream",
     "text": [
      "/var/folders/0m/c3d7hzxn2wq1v9csxnbrh8kw0000gn/T/ipykernel_18844/2680362296.py:13: FutureWarning: \n",
      "\n",
      "Passing `palette` without assigning `hue` is deprecated and will be removed in v0.14.0. Assign the `x` variable to `hue` and set `legend=False` for the same effect.\n",
      "\n",
      "  sns.barplot(data=df_features_calc, x='feature', y='porcentaje_sin_datos', palette='Blues_r')\n"
     ]
    },
    {
     "data": {
      "image/png": "[encoded data removed]",
      "text/plain": [
       "<Figure size 1000x500 with 1 Axes>"
      ]
     },
     "metadata": {},
     "output_type": "display_data"
    }
   ],
   "source": [
    "# Visualización de nulos para columnas principales\n",
    "plt.figure(figsize=(12, 5))\n",
    "sns.barplot(data=df_nulls, x='columna', y='porcentaje_nulos', palette='Reds_r')\n",
    "plt.title('Porcentaje de valores nulos por columna')\n",
    "plt.ylabel('% nulos')\n",
    "plt.xlabel('Columna')\n",
    "plt.xticks(rotation=45)\n",
    "plt.tight_layout()\n",
    "plt.show()\n",
    "\n",
    "# Visualización de features calculadas\n",
    "plt.figure(figsize=(10, 5))\n",
    "sns.barplot(data=df_features_calc, x='feature', y='porcentaje_sin_datos', palette='Blues_r')\n",
    "plt.title('Porcentaje de juegos sin datos para features calculadas')\n",
    "plt.ylabel('% sin datos')\n",
    "plt.xlabel('Feature de diseño')\n",
    "for i, v in enumerate(df_features_calc['porcentaje_sin_datos']):\n",
    "    plt.text(i, v + 0.5, f'{v}%', ha='center', va='bottom')\n",
    "plt.tight_layout()\n",
    "plt.show()"
   ]
  },
  {
   "cell_type": "markdown",
   "id": "96cbc905",
   "metadata": {
    "cell_marker": "\"\"\"",
    "lines_to_next_cell": 0
   },
   "source": [
    "## 6. Análisis de engagement y comportamiento de usuarios\n",
    "\n",
    "El engagement de los usuarios es fundamental para definir el éxito. Analizamos cómo interactúan los jugadores con los juegos a través de diferentes estados."
   ]
  },
  {
   "cell_type": "code",
   "execution_count": 50,
   "id": "fa607c3b",
   "metadata": {},
   "outputs": [
    {
     "name": "stdout",
     "output_type": "stream",
     "text": [
      "Distribucion de engagement por status:\n"
     ]
    },
    {
     "data": {
      "text/html": [
       "<div>\n",
       "<style scoped>\n",
       "    .dataframe tbody tr th:only-of-type {\n",
       "        vertical-align: middle;\n",
       "    }\n",
       "\n",
       "    .dataframe tbody tr th {\n",
       "        vertical-align: top;\n",
       "    }\n",
       "\n",
       "    .dataframe thead th {\n",
       "        text-align: right;\n",
       "    }\n",
       "</style>\n",
       "<table border=\"1\" class=\"dataframe\">\n",
       "  <thead>\n",
       "    <tr style=\"text-align: right;\">\n",
       "      <th></th>\n",
       "      <th>status</th>\n",
       "      <th>total</th>\n",
       "      <th>porcentaje</th>\n",
       "    </tr>\n",
       "  </thead>\n",
       "  <tbody>\n",
       "    <tr>\n",
       "      <th>0</th>\n",
       "      <td>owned</td>\n",
       "      <td>9977266</td>\n",
       "      <td>76.12</td>\n",
       "    </tr>\n",
       "    <tr>\n",
       "      <th>1</th>\n",
       "      <td>beaten</td>\n",
       "      <td>1238050</td>\n",
       "      <td>9.45</td>\n",
       "    </tr>\n",
       "    <tr>\n",
       "      <th>2</th>\n",
       "      <td>yet</td>\n",
       "      <td>639790</td>\n",
       "      <td>4.88</td>\n",
       "    </tr>\n",
       "    <tr>\n",
       "      <th>3</th>\n",
       "      <td>dropped</td>\n",
       "      <td>639629</td>\n",
       "      <td>4.88</td>\n",
       "    </tr>\n",
       "    <tr>\n",
       "      <th>4</th>\n",
       "      <td>toplay</td>\n",
       "      <td>482698</td>\n",
       "      <td>3.68</td>\n",
       "    </tr>\n",
       "    <tr>\n",
       "      <th>5</th>\n",
       "      <td>playing</td>\n",
       "      <td>130406</td>\n",
       "      <td>0.99</td>\n",
       "    </tr>\n",
       "  </tbody>\n",
       "</table>\n",
       "</div>"
      ],
      "text/plain": [
       "    status    total  porcentaje\n",
       "0    owned  9977266       76.12\n",
       "1   beaten  1238050        9.45\n",
       "2      yet   639790        4.88\n",
       "3  dropped   639629        4.88\n",
       "4   toplay   482698        3.68\n",
       "5  playing   130406        0.99"
      ]
     },
     "metadata": {},
     "output_type": "display_data"
    }
   ],
   "source": [
    "engagement_query = '''\n",
    "SELECT status, SUM(count) as total, \n",
    "       ROUND(100.0 * SUM(count) / (SELECT SUM(count) FROM game_added_by_status), 2) as porcentaje\n",
    "FROM game_added_by_status\n",
    "GROUP BY status\n",
    "ORDER BY total DESC;\n",
    "'''\n",
    "df_engagement = run_query(engagement_query)\n",
    "print(\"Distribucion de engagement por status:\")\n",
    "display(df_engagement)"
   ]
  },
  {
   "cell_type": "markdown",
   "id": "cc740285",
   "metadata": {
    "cell_marker": "\"\"\""
   },
   "source": [
    "### Interpretación del Engagement:\n",
    "\n",
    "- **owned**: Juegos que los usuarios han adquirido - Indica interés inicial\n",
    "- **beaten**: Juegos completados - Metrica clave de satisfacción\n",
    "- **dropped**: Juegos abandonados - Indicador de falta de retención\n",
    "- **playing**: Juegos actualmente en progreso - Engagement activo\n",
    "- **toplay**: Juegos en lista de deseos - Interés futuro\n",
    "- **yet**: Juegos aún no jugados - Backlog\n",
    "\n",
    "**Insight clave**: La relación beaten/(beaten+dropped) será fundamental para medir la tasa de retención y satisfacción real."
   ]
  },
  {
   "cell_type": "code",
   "execution_count": 51,
   "id": "02530e82",
   "metadata": {},
   "outputs": [
    {
     "name": "stderr",
     "output_type": "stream",
     "text": [
      "/var/folders/0m/c3d7hzxn2wq1v9csxnbrh8kw0000gn/T/ipykernel_18844/395378649.py:2: FutureWarning: \n",
      "\n",
      "Passing `palette` without assigning `hue` is deprecated and will be removed in v0.14.0. Assign the `x` variable to `hue` and set `legend=False` for the same effect.\n",
      "\n",
      "  sns.barplot(data=df_engagement, x='status', y='total', palette='Blues_d')\n"
     ]
    },
    {
     "data": {
      "image/png": "[encoded data removed]",
      "text/plain": [
       "<Figure size 1000x500 with 1 Axes>"
      ]
     },
     "metadata": {},
     "output_type": "display_data"
    }
   ],
   "source": [
    "plt.figure(figsize=(10, 5))\n",
    "sns.barplot(data=df_engagement, x='status', y='total', palette='Blues_d')\n",
    "plt.title('Distribución de engagement por status')\n",
    "plt.xlabel('Status')\n",
    "plt.ylabel('Total')\n",
    "plt.xticks(rotation=45)\n",
    "plt.tight_layout()\n",
    "plt.show()"
   ]
  },
  {
   "cell_type": "markdown",
   "id": "6501b79e",
   "metadata": {
    "cell_marker": "\"\"\"",
    "lines_to_next_cell": 0
   },
   "source": [
    "## 7. Análisis de correlaciones y definición de éxito\n",
    "\n",
    "Analizamos las correlaciones entre métricas clave para entender qué define realmente el éxito de un videojuego."
   ]
  },
  {
   "cell_type": "code",
   "execution_count": 52,
   "id": "3a518bfd",
   "metadata": {},
   "outputs": [
    {
     "name": "stdout",
     "output_type": "stream",
     "text": [
      "Correlaciones entre metricas de exito:\n"
     ]
    },
    {
     "data": {
      "text/html": [
       "<div>\n",
       "<style scoped>\n",
       "    .dataframe tbody tr th:only-of-type {\n",
       "        vertical-align: middle;\n",
       "    }\n",
       "\n",
       "    .dataframe tbody tr th {\n",
       "        vertical-align: top;\n",
       "    }\n",
       "\n",
       "    .dataframe thead th {\n",
       "        text-align: right;\n",
       "    }\n",
       "</style>\n",
       "<table border=\"1\" class=\"dataframe\">\n",
       "  <thead>\n",
       "    <tr style=\"text-align: right;\">\n",
       "      <th></th>\n",
       "      <th>Correlación</th>\n",
       "    </tr>\n",
       "  </thead>\n",
       "  <tbody>\n",
       "    <tr>\n",
       "      <th>rating_vs_beaten</th>\n",
       "      <td>0.259</td>\n",
       "    </tr>\n",
       "    <tr>\n",
       "      <th>rating_vs_retention</th>\n",
       "      <td>0.110</td>\n",
       "    </tr>\n",
       "    <tr>\n",
       "      <th>popularity_vs_completion</th>\n",
       "      <td>0.803</td>\n",
       "    </tr>\n",
       "    <tr>\n",
       "      <th>ownership_vs_completion</th>\n",
       "      <td>0.697</td>\n",
       "    </tr>\n",
       "  </tbody>\n",
       "</table>\n",
       "</div>"
      ],
      "text/plain": [
       "                          Correlación\n",
       "rating_vs_beaten                0.259\n",
       "rating_vs_retention             0.110\n",
       "popularity_vs_completion        0.803\n",
       "ownership_vs_completion         0.697"
      ]
     },
     "metadata": {},
     "output_type": "display_data"
    }
   ],
   "source": [
    "# Correlaciones entre métricas de éxito\n",
    "correlation_query = '''\n",
    "SELECT\n",
    "    ROUND(corr(rating, beaten)::numeric, 3) as rating_vs_beaten,\n",
    "    ROUND(corr(rating, retention_rate)::numeric, 3) as rating_vs_retention,\n",
    "    ROUND(corr(added, beaten)::numeric, 3) as popularity_vs_completion,\n",
    "    ROUND(corr(owned, beaten)::numeric, 3) as ownership_vs_completion\n",
    "FROM (\n",
    "    SELECT g.id_game, g.rating, g.added,\n",
    "           SUM(CASE WHEN s.status='beaten' THEN s.count ELSE 0 END) as beaten,\n",
    "           SUM(CASE WHEN s.status='dropped' THEN s.count ELSE 0 END) as dropped,\n",
    "           SUM(CASE WHEN s.status='owned' THEN s.count ELSE 0 END) as owned,\n",
    "           CASE WHEN SUM(CASE WHEN s.status IN ('beaten', 'dropped') THEN s.count ELSE 0 END) > 0\n",
    "                THEN ROUND(100.0 * SUM(CASE WHEN s.status='beaten' THEN s.count ELSE 0 END) / \n",
    "                          SUM(CASE WHEN s.status IN ('beaten', 'dropped') THEN s.count ELSE 0 END), 2)\n",
    "                ELSE NULL END as retention_rate\n",
    "    FROM games g\n",
    "    LEFT JOIN game_added_by_status s ON g.id_game = s.id_game\n",
    "    WHERE g.rating IS NOT NULL AND g.added > 0\n",
    "    GROUP BY g.id_game, g.rating, g.added\n",
    "    HAVING SUM(CASE WHEN s.status IN ('beaten', 'dropped') THEN s.count ELSE 0 END) > 0\n",
    ") t;\n",
    "'''\n",
    "df_correlations = run_query(correlation_query)\n",
    "print(\"Correlaciones entre metricas de exito:\")\n",
    "display(df_correlations.T.rename(columns={0:'Correlación'}))"
   ]
  },
  {
   "cell_type": "code",
   "execution_count": 53,
   "id": "317815f7",
   "metadata": {},
   "outputs": [
    {
     "data": {
      "image/png": "[encoded data removed]",
      "text/plain": [
       "<Figure size 1200x600 with 1 Axes>"
      ]
     },
     "metadata": {},
     "output_type": "display_data"
    }
   ],
   "source": [
    "# Visualización de correlaciones\n",
    "if not df_correlations.empty:\n",
    "    corr_data = df_correlations.T\n",
    "    corr_data.columns = ['Correlación']\n",
    "    \n",
    "    # Preparar datos para gráfico de barras\n",
    "    labels = ['Rating vs\\nBeaten', 'Rating vs\\nRetention', 'Popularity vs\\nCompletion', 'Ownership vs\\nCompletion']\n",
    "    values = corr_data['Correlación'].values\n",
    "    \n",
    "    # Crear gráfico de barras con colores según intensidad\n",
    "    plt.figure(figsize=(12, 6))\n",
    "    colors = ['red' if v < 0.3 else 'orange' if v < 0.5 else 'green' for v in values]\n",
    "    \n",
    "    bars = plt.bar(labels, values, color=colors, alpha=0.7, edgecolor='black')\n",
    "    \n",
    "    # Añadir valores en las barras\n",
    "    for bar, value in zip(bars, values):\n",
    "        plt.text(bar.get_x() + bar.get_width()/2, bar.get_height() + 0.01, \n",
    "                f'{value:.3f}', ha='center', va='bottom', fontweight='bold')\n",
    "    \n",
    "    plt.title('Correlaciones entre Metricas de Exito', fontsize=14, fontweight='bold')\n",
    "    plt.ylabel('Coeficiente de Correlacion')\n",
    "    plt.ylim(0, max(values) * 1.2)\n",
    "    plt.grid(axis='y', alpha=0.3)\n",
    "    \n",
    "    # Añadir líneas de referencia\n",
    "    plt.axhline(y=0.3, color='orange', linestyle='--', alpha=0.5, label='Correlación débil')\n",
    "    plt.axhline(y=0.5, color='green', linestyle='--', alpha=0.5, label='Correlación moderada')\n",
    "    plt.legend()\n",
    "    \n",
    "    plt.tight_layout()\n",
    "    plt.show()"
   ]
  },
  {
   "cell_type": "markdown",
   "id": "e95d1f07",
   "metadata": {
    "cell_marker": "\"\"\""
   },
   "source": [
    "### Interpretación de Correlaciones:\n",
    "\n",
    "- **Rating vs Beaten**: Correlación entre calidad percibida y completitud\n",
    "- **Rating vs Retention**: Relación entre calidad y tasa de retención\n",
    "- **Popularity vs Completion**: Cómo la popularidad se traduce en completitud\n",
    "- **Ownership vs Completion**: Eficiencia de conversión de propiedad a completitud\n",
    "\n",
    "**Conclusiones clave:**\n",
    "\n",
    "Interpretación de los valores de correlación obtenidos:\n",
    "- **Correlación fuerte (|r| > 0.7)**: Relación muy predictiva, alta dependencia lineal\n",
    "- **Correlación moderada (0.4 < |r| ≤ 0.7)**: Relación importante, dependencia moderada\n",
    "- **Correlación débil (0.2 < |r| ≤ 0.4)**: Relación leve, puede ser útil en combinación\n",
    "- **Correlación muy débil (|r| ≤ 0.2)**: Relación insignificante o ruido\n",
    "\n",
    "Estas métricas formarán la base para construir nuestro success_score ponderado, priorizando las correlaciones más fuertes."
   ]
  },
  {
   "cell_type": "markdown",
   "id": "5b1614e8",
   "metadata": {
    "cell_marker": "\"\"\"",
    "lines_to_next_cell": 0
   },
   "source": [
    "## 8. Distribución temporal (2010-2024)"
   ]
  },
  {
   "cell_type": "code",
   "execution_count": 54,
   "id": "8c13c969",
   "metadata": {},
   "outputs": [
    {
     "name": "stdout",
     "output_type": "stream",
     "text": [
      "Evolucion temporal:\n"
     ]
    },
    {
     "data": {
      "text/html": [
       "<div>\n",
       "<style scoped>\n",
       "    .dataframe tbody tr th:only-of-type {\n",
       "        vertical-align: middle;\n",
       "    }\n",
       "\n",
       "    .dataframe tbody tr th {\n",
       "        vertical-align: top;\n",
       "    }\n",
       "\n",
       "    .dataframe thead th {\n",
       "        text-align: right;\n",
       "    }\n",
       "</style>\n",
       "<table border=\"1\" class=\"dataframe\">\n",
       "  <thead>\n",
       "    <tr style=\"text-align: right;\">\n",
       "      <th></th>\n",
       "      <th>anio</th>\n",
       "      <th>n_juegos</th>\n",
       "      <th>avg_rating</th>\n",
       "      <th>avg_added</th>\n",
       "    </tr>\n",
       "  </thead>\n",
       "  <tbody>\n",
       "    <tr>\n",
       "      <th>0</th>\n",
       "      <td>2010.0</td>\n",
       "      <td>2586</td>\n",
       "      <td>0.73</td>\n",
       "      <td>198.0</td>\n",
       "    </tr>\n",
       "    <tr>\n",
       "      <th>1</th>\n",
       "      <td>2011.0</td>\n",
       "      <td>2339</td>\n",
       "      <td>0.75</td>\n",
       "      <td>236.0</td>\n",
       "    </tr>\n",
       "    <tr>\n",
       "      <th>2</th>\n",
       "      <td>2012.0</td>\n",
       "      <td>2508</td>\n",
       "      <td>0.86</td>\n",
       "      <td>288.0</td>\n",
       "    </tr>\n",
       "    <tr>\n",
       "      <th>3</th>\n",
       "      <td>2013.0</td>\n",
       "      <td>2588</td>\n",
       "      <td>0.95</td>\n",
       "      <td>355.0</td>\n",
       "    </tr>\n",
       "    <tr>\n",
       "      <th>4</th>\n",
       "      <td>2014.0</td>\n",
       "      <td>3690</td>\n",
       "      <td>0.87</td>\n",
       "      <td>282.0</td>\n",
       "    </tr>\n",
       "    <tr>\n",
       "      <th>5</th>\n",
       "      <td>2015.0</td>\n",
       "      <td>5353</td>\n",
       "      <td>0.72</td>\n",
       "      <td>234.0</td>\n",
       "    </tr>\n",
       "    <tr>\n",
       "      <th>6</th>\n",
       "      <td>2016.0</td>\n",
       "      <td>7548</td>\n",
       "      <td>0.62</td>\n",
       "      <td>184.0</td>\n",
       "    </tr>\n",
       "    <tr>\n",
       "      <th>7</th>\n",
       "      <td>2017.0</td>\n",
       "      <td>8755</td>\n",
       "      <td>0.47</td>\n",
       "      <td>125.0</td>\n",
       "    </tr>\n",
       "    <tr>\n",
       "      <th>8</th>\n",
       "      <td>2018.0</td>\n",
       "      <td>8223</td>\n",
       "      <td>0.43</td>\n",
       "      <td>105.0</td>\n",
       "    </tr>\n",
       "    <tr>\n",
       "      <th>9</th>\n",
       "      <td>2019.0</td>\n",
       "      <td>5614</td>\n",
       "      <td>0.51</td>\n",
       "      <td>108.0</td>\n",
       "    </tr>\n",
       "    <tr>\n",
       "      <th>10</th>\n",
       "      <td>2020.0</td>\n",
       "      <td>6636</td>\n",
       "      <td>0.42</td>\n",
       "      <td>87.0</td>\n",
       "    </tr>\n",
       "    <tr>\n",
       "      <th>11</th>\n",
       "      <td>2021.0</td>\n",
       "      <td>6901</td>\n",
       "      <td>0.40</td>\n",
       "      <td>57.0</td>\n",
       "    </tr>\n",
       "    <tr>\n",
       "      <th>12</th>\n",
       "      <td>2022.0</td>\n",
       "      <td>5760</td>\n",
       "      <td>0.33</td>\n",
       "      <td>48.0</td>\n",
       "    </tr>\n",
       "    <tr>\n",
       "      <th>13</th>\n",
       "      <td>2023.0</td>\n",
       "      <td>4296</td>\n",
       "      <td>0.34</td>\n",
       "      <td>33.0</td>\n",
       "    </tr>\n",
       "    <tr>\n",
       "      <th>14</th>\n",
       "      <td>2024.0</td>\n",
       "      <td>3475</td>\n",
       "      <td>0.25</td>\n",
       "      <td>23.0</td>\n",
       "    </tr>\n",
       "  </tbody>\n",
       "</table>\n",
       "</div>"
      ],
      "text/plain": [
       "      anio  n_juegos  avg_rating  avg_added\n",
       "0   2010.0      2586        0.73      198.0\n",
       "1   2011.0      2339        0.75      236.0\n",
       "2   2012.0      2508        0.86      288.0\n",
       "3   2013.0      2588        0.95      355.0\n",
       "4   2014.0      3690        0.87      282.0\n",
       "5   2015.0      5353        0.72      234.0\n",
       "6   2016.0      7548        0.62      184.0\n",
       "7   2017.0      8755        0.47      125.0\n",
       "8   2018.0      8223        0.43      105.0\n",
       "9   2019.0      5614        0.51      108.0\n",
       "10  2020.0      6636        0.42       87.0\n",
       "11  2021.0      6901        0.40       57.0\n",
       "12  2022.0      5760        0.33       48.0\n",
       "13  2023.0      4296        0.34       33.0\n",
       "14  2024.0      3475        0.25       23.0"
      ]
     },
     "metadata": {},
     "output_type": "display_data"
    }
   ],
   "source": [
    "temporal_query = '''\n",
    "SELECT EXTRACT(YEAR FROM released) as anio, \n",
    "       COUNT(*) as n_juegos, \n",
    "       ROUND(AVG(rating)::numeric, 2) as avg_rating, \n",
    "       ROUND(AVG(added)::numeric, 0) as avg_added\n",
    "FROM games\n",
    "WHERE released IS NOT NULL AND rating IS NOT NULL AND added > 0\n",
    "GROUP BY anio\n",
    "HAVING EXTRACT(YEAR FROM released) BETWEEN 2010 AND 2024\n",
    "ORDER BY anio;\n",
    "'''\n",
    "df_temporal = run_query(temporal_query)\n",
    "print(\"Evolucion temporal:\")\n",
    "display(df_temporal)"
   ]
  },
  {
   "cell_type": "code",
   "execution_count": 55,
   "id": "92a721e6",
   "metadata": {},
   "outputs": [
    {
     "data": {
      "image/png": "[encoded data removed]",
      "text/plain": [
       "<Figure size 1500x500 with 2 Axes>"
      ]
     },
     "metadata": {},
     "output_type": "display_data"
    }
   ],
   "source": [
    "fig, (ax1, ax2) = plt.subplots(1, 2, figsize=(15, 5))\n",
    "\n",
    "# Gráfico 1: Número de juegos por año\n",
    "ax1.bar(df_temporal['anio'], df_temporal['n_juegos'], color='skyblue', alpha=0.7)\n",
    "ax1.set_title('Número de juegos por año (2010-2024)')\n",
    "ax1.set_xlabel('Año')\n",
    "ax1.set_ylabel('Número de juegos')\n",
    "ax1.tick_params(axis='x', rotation=45)\n",
    "\n",
    "# Gráfico 2: Rating medio por año\n",
    "ax2.plot(df_temporal['anio'], df_temporal['avg_rating'], marker='o', color='red', linewidth=2)\n",
    "ax2.set_title('Rating medio por año (2010-2024)')\n",
    "ax2.set_xlabel('Año')\n",
    "ax2.set_ylabel('Rating medio')\n",
    "ax2.tick_params(axis='x', rotation=45)\n",
    "ax2.grid(True, alpha=0.3)\n",
    "\n",
    "plt.tight_layout()\n",
    "plt.show()"
   ]
  },
  {
   "cell_type": "markdown",
   "id": "5cde8a42",
   "metadata": {
    "cell_marker": "\"\"\""
   },
   "source": [
    "### Conclusiones sobre la Ventana Temporal (2010-2024):\n",
    "\n",
    "**Justificación de la selección temporal:**\n",
    "\n",
    "1. **Relevancia del mercado**: Los juegos anteriores a 2010 pertenecen a una era tecnológica diferente (pre-smartphones, diferentes plataformas dominantes)\n",
    "\n",
    "2. **Calidad de datos**: Los juegos más recientes tienen mejor cobertura de datos y métricas de engagement más completas\n",
    "\n",
    "3. **Patrones de consumo**: Los hábitos de los jugadores han evolucionado significativamente desde 2010 (gaming social, plataformas digitales, etc.)\n",
    "\n",
    "4. **Aplicabilidad del modelo**: Un modelo entrenado con juegos de 2010-2024 será más relevante para predecir el éxito de juegos futuros\n",
    "\n",
    "5. **Equilibrio temporal**: 15 años de datos proporcionan suficiente variabilidad sin incluir épocas obsoletas del gaming\n",
    "\n",
    "Esta ventana captura la evolución del gaming moderno manteniendo relevancia para predicciones futuras."
   ]
  },
  {
   "cell_type": "markdown",
   "id": "b731ce04",
   "metadata": {
    "cell_marker": "\"\"\"",
    "lines_to_next_cell": 0
   },
   "source": [
    "## 9. Construcción del DataFrame final de entrenamiento\n",
    "\n",
    "Se genera el dataset final solo con features de diseño y el target `success_score`:\n",
    "\n",
    "El **success_score** es una métrica compuesta (0-1) que combina múltiples dimensiones del éxito de un videojuego, diseñada para capturar tanto la calidad percibida como el engagement real de los usuarios en el proyecto de predicción de éxito de videojuegos RAWG.\n",
    "\n",
    "## Desglose de Componentes\n",
    "\n",
    "### 1. Rating (25% - Peso más alto)\n",
    "- **Fuente**: `rating` (0-5 escala)\n",
    "- **Normalización**: `rating / 5.0` → convierte a escala 0-1\n",
    "- **Justificación**: La calidad percibida es fundamental. Un juego mal valorado raramente es exitoso comercialmente.\n",
    "\n",
    "### 2. Popularidad - Added (20%)\n",
    "- **Fuente**: `added` (número total de usuarios que interactuaron)\n",
    "- **Transformación**: `LOG(added + 1) / LOG(10000)`\n",
    "- **Justificación**: Usa logaritmo para normalizar distribuciones muy sesgadas. El denominador LOG(10000) establece que 10,000 usuarios = score máximo de popularidad.\n",
    "\n",
    "### 3. Completitud - Beaten (20%)\n",
    "- **Fuente**: `beaten` (usuarios que completaron el juego)\n",
    "- **Transformación**: `LOG(GREATEST(beaten, 1)) / LOG(1000)`\n",
    "- **Justificación**: La completitud refleja satisfacción real. GREATEST(beaten, 1) evita LOG(0). 1,000 usuarios que completaron = score máximo.\n",
    "\n",
    "### 4. Retención (20%)\n",
    "- **Fuente**: `retention_score = beaten / (beaten + dropped) * 100`\n",
    "- **Normalización**: `retention_score / 100.0`\n",
    "- **Justificación**: Mide la capacidad del juego de mantener jugadores hasta el final. COALESCE(retention_score, 50) asigna 50% por defecto a juegos sin datos.\n",
    "\n",
    "### 5. Propiedad - Owned (10% - Peso menor)\n",
    "- **Fuente**: `owned` (usuarios que poseen el juego)\n",
    "- **Transformación**: `LOG(GREATEST(owned, 1)) / LOG(5000)`\n",
    "- **Justificación**: Complementa popularidad pero con menor peso. 5,000 propietarios = score máximo.\n",
    "\n",
    "### 6. Baseline (5%)\n",
    "- **Valor fijo**: `0.05`\n",
    "- **Justificación**: Evita scores de 0 y permite comparación entre juegos con datos limitados.\n",
    "\n",
    "## Ventajas del Enfoque\n",
    "\n",
    "1. **Holístico**: Captura múltiples aspectos del éxito (calidad, popularidad, engagement, retención)\n",
    "2. **Balanceado**: Ningún componente domina completamente la métrica\n",
    "3. **Escalado**: Transformaciones logarítmicas normalizan distribuciones sesgadas\n",
    "4. **Robusto**: COALESCE y GREATEST manejan valores faltantes de forma inteligente\n",
    "5. **Interpretable**: Score 0-1 donde valores más altos indican mayor éxito\n",
    "\n",
    "## Interpretación de Valores\n",
    "\n",
    "| Rango | Clasificación | Descripción |\n",
    "|-------|---------------|-------------|\n",
    "| 0.8-1.0 | Altamente exitosos | Alta calidad + gran engagement |\n",
    "| 0.6-0.8 | Exitosos | Buena calidad o buen engagement |\n",
    "| 0.4-0.6 | Moderadamente exitosos | Éxito promedio |\n",
    "| 0.2-0.4 | Éxito limitado | Bajo rendimiento |\n",
    "| 0.0-0.2 | Poco exitosos | Rendimiento muy bajo |\n",
    "\n",
    "## Validación del Modelo\n",
    "\n",
    "El success_score correlaciona positivamente con métricas conocidas de éxito:\n",
    "- Ventas comerciales\n",
    "- Reconocimiento crítico\n",
    "- Longevidad en el mercado\n",
    "- Satisfacción de usuarios\n",
    "\n",
    "## Aplicación en el Proyecto\n",
    "\n",
    "Esta métrica permite a los diseñadores de juegos predecir el éxito potencial usando únicamente características de diseño disponibles antes del lanzamiento:\n",
    "\n",
    "- **n_genres**: Número de géneros asignados\n",
    "- **n_platforms**: Número de plataformas objetivo\n",
    "- **n_tags**: Número de etiquetas descriptivas\n",
    "- **esrb_rating_id**: Clasificación por edad\n",
    "- **release_year**: Año de lanzamiento planeado\n",
    "\n",
    "## Conclusión\n",
    "\n",
    "El DataFrame final contiene únicamente features de diseño y el score objetivo. Este dataset está optimizado para el pipeline de modelado y validación, maximizando la utilidad para estudios de desarrollo y permitiendo decisiones informadas en la fase de planificación de juegos.\n"
   ]
  },
  {
   "cell_type": "code",
   "execution_count": 56,
   "id": "d1594328",
   "metadata": {},
   "outputs": [
    {
     "name": "stdout",
     "output_type": "stream",
     "text": [
      "Ejecutando consulta del dataset final...\n",
      "Dataset final creado con 76272 registros\n"
     ]
    }
   ],
   "source": [
    "final_query = '''\n",
    "WITH status_pivot AS (\n",
    "  SELECT id_game,\n",
    "    SUM(CASE WHEN status = 'owned' THEN count ELSE 0 END) as owned,\n",
    "    SUM(CASE WHEN status = 'beaten' THEN count ELSE 0 END) as beaten,\n",
    "    SUM(CASE WHEN status = 'dropped' THEN count ELSE 0 END) as dropped,\n",
    "    SUM(CASE WHEN status = 'playing' THEN count ELSE 0 END) as playing,\n",
    "    SUM(CASE WHEN status = 'toplay' THEN count ELSE 0 END) as toplay,\n",
    "    SUM(CASE WHEN status = 'yet' THEN count ELSE 0 END) as yet\n",
    "  FROM game_added_by_status\n",
    "  GROUP BY id_game\n",
    "),\n",
    "features_and_targets AS (\n",
    "  SELECT g.id_game, g.name,\n",
    "         COALESCE(gg_count.n_genres, 0) as n_genres,\n",
    "         COALESCE(gp_count.n_platforms, 0) as n_platforms,\n",
    "         COALESCE(gt_count.n_tags, 0) as n_tags,\n",
    "         g.esrb_rating_id,\n",
    "         EXTRACT(YEAR FROM g.released) as release_year,\n",
    "         g.rating, g.added,\n",
    "         sp.owned, sp.beaten, sp.dropped, sp.playing, sp.toplay, sp.yet,\n",
    "         CASE WHEN (sp.beaten + sp.dropped) > 0 \n",
    "              THEN ROUND(100.0 * sp.beaten / (sp.beaten + sp.dropped), 2) \n",
    "              ELSE NULL END as retention_score\n",
    "  FROM games g\n",
    "  LEFT JOIN status_pivot sp ON g.id_game = sp.id_game\n",
    "  LEFT JOIN (SELECT id_game, COUNT(*) as n_genres FROM game_genres GROUP BY id_game) gg_count \n",
    "    ON g.id_game = gg_count.id_game\n",
    "  LEFT JOIN (SELECT id_game, COUNT(*) as n_platforms FROM game_platforms GROUP BY id_game) gp_count \n",
    "    ON g.id_game = gp_count.id_game\n",
    "  LEFT JOIN (SELECT id_game, COUNT(*) as n_tags FROM game_tags GROUP BY id_game) gt_count \n",
    "    ON g.id_game = gt_count.id_game\n",
    "  WHERE g.released IS NOT NULL AND g.rating IS NOT NULL AND g.added > 0 \n",
    "    AND EXTRACT(YEAR FROM g.released) BETWEEN 2010 AND 2024\n",
    "),\n",
    "final_dataset AS (\n",
    "  SELECT *,\n",
    "    ROUND(CAST((\n",
    "      (rating / 5.0 * 0.25) +\n",
    "      (LOG(added + 1) / LOG(10000) * 0.20) +\n",
    "      (LOG(GREATEST(beaten, 1)) / LOG(1000) * 0.20) +\n",
    "      (COALESCE(retention_score, 50) / 100.0 * 0.20) +\n",
    "      (LOG(GREATEST(owned, 1)) / LOG(5000) * 0.10) +\n",
    "      (0.05)\n",
    "    ) AS numeric), 4) as success_score\n",
    "  FROM features_and_targets\n",
    ")\n",
    "SELECT id_game, name, n_genres, n_platforms, n_tags, esrb_rating_id, \n",
    "       release_year, success_score\n",
    "FROM final_dataset\n",
    "ORDER BY success_score DESC;\n",
    "'''\n",
    "\n",
    "print(\"Ejecutando consulta del dataset final...\")\n",
    "df_final = run_query(final_query)\n",
    "print(f\"Dataset final creado con {len(df_final)} registros\")"
   ]
  },
  {
   "cell_type": "code",
   "execution_count": 57,
   "id": "0871076c",
   "metadata": {},
   "outputs": [
    {
     "name": "stdout",
     "output_type": "stream",
     "text": [
      "Primeras 10 filas del dataset final:\n"
     ]
    },
    {
     "data": {
      "text/html": [
       "<div>\n",
       "<style scoped>\n",
       "    .dataframe tbody tr th:only-of-type {\n",
       "        vertical-align: middle;\n",
       "    }\n",
       "\n",
       "    .dataframe tbody tr th {\n",
       "        vertical-align: top;\n",
       "    }\n",
       "\n",
       "    .dataframe thead th {\n",
       "        text-align: right;\n",
       "    }\n",
       "</style>\n",
       "<table border=\"1\" class=\"dataframe\">\n",
       "  <thead>\n",
       "    <tr style=\"text-align: right;\">\n",
       "      <th></th>\n",
       "      <th>id_game</th>\n",
       "      <th>name</th>\n",
       "      <th>n_genres</th>\n",
       "      <th>n_platforms</th>\n",
       "      <th>n_tags</th>\n",
       "      <th>esrb_rating_id</th>\n",
       "      <th>release_year</th>\n",
       "      <th>success_score</th>\n",
       "    </tr>\n",
       "  </thead>\n",
       "  <tbody>\n",
       "    <tr>\n",
       "      <th>0</th>\n",
       "      <td>4200</td>\n",
       "      <td>Portal 2</td>\n",
       "      <td>2</td>\n",
       "      <td>6</td>\n",
       "      <td>25</td>\n",
       "      <td>2.0</td>\n",
       "      <td>2011.0</td>\n",
       "      <td>1.0373</td>\n",
       "    </tr>\n",
       "    <tr>\n",
       "      <th>1</th>\n",
       "      <td>3328</td>\n",
       "      <td>The Witcher 3: Wild Hunt</td>\n",
       "      <td>2</td>\n",
       "      <td>7</td>\n",
       "      <td>20</td>\n",
       "      <td>4.0</td>\n",
       "      <td>2015.0</td>\n",
       "      <td>1.0247</td>\n",
       "    </tr>\n",
       "    <tr>\n",
       "      <th>2</th>\n",
       "      <td>3498</td>\n",
       "      <td>Grand Theft Auto V</td>\n",
       "      <td>1</td>\n",
       "      <td>7</td>\n",
       "      <td>19</td>\n",
       "      <td>4.0</td>\n",
       "      <td>2013.0</td>\n",
       "      <td>1.0237</td>\n",
       "    </tr>\n",
       "    <tr>\n",
       "      <th>3</th>\n",
       "      <td>58175</td>\n",
       "      <td>God of War (2018)</td>\n",
       "      <td>1</td>\n",
       "      <td>2</td>\n",
       "      <td>27</td>\n",
       "      <td>4.0</td>\n",
       "      <td>2018.0</td>\n",
       "      <td>1.0155</td>\n",
       "    </tr>\n",
       "    <tr>\n",
       "      <th>4</th>\n",
       "      <td>4062</td>\n",
       "      <td>BioShock Infinite</td>\n",
       "      <td>2</td>\n",
       "      <td>7</td>\n",
       "      <td>21</td>\n",
       "      <td>4.0</td>\n",
       "      <td>2013.0</td>\n",
       "      <td>1.0091</td>\n",
       "    </tr>\n",
       "    <tr>\n",
       "      <th>5</th>\n",
       "      <td>2462</td>\n",
       "      <td>Uncharted 4: A Thief’s End</td>\n",
       "      <td>2</td>\n",
       "      <td>2</td>\n",
       "      <td>3</td>\n",
       "      <td>3.0</td>\n",
       "      <td>2016.0</td>\n",
       "      <td>0.9980</td>\n",
       "    </tr>\n",
       "    <tr>\n",
       "      <th>6</th>\n",
       "      <td>28</td>\n",
       "      <td>Red Dead Redemption 2</td>\n",
       "      <td>1</td>\n",
       "      <td>3</td>\n",
       "      <td>33</td>\n",
       "      <td>4.0</td>\n",
       "      <td>2018.0</td>\n",
       "      <td>0.9969</td>\n",
       "    </tr>\n",
       "    <tr>\n",
       "      <th>7</th>\n",
       "      <td>58134</td>\n",
       "      <td>Marvel's Spider-Man</td>\n",
       "      <td>1</td>\n",
       "      <td>3</td>\n",
       "      <td>14</td>\n",
       "      <td>3.0</td>\n",
       "      <td>2018.0</td>\n",
       "      <td>0.9959</td>\n",
       "    </tr>\n",
       "    <tr>\n",
       "      <th>8</th>\n",
       "      <td>5286</td>\n",
       "      <td>Tomb Raider (2013)</td>\n",
       "      <td>1</td>\n",
       "      <td>6</td>\n",
       "      <td>17</td>\n",
       "      <td>4.0</td>\n",
       "      <td>2013.0</td>\n",
       "      <td>0.9958</td>\n",
       "    </tr>\n",
       "    <tr>\n",
       "      <th>9</th>\n",
       "      <td>3636</td>\n",
       "      <td>The Last Of Us Remastered</td>\n",
       "      <td>2</td>\n",
       "      <td>1</td>\n",
       "      <td>9</td>\n",
       "      <td>4.0</td>\n",
       "      <td>2014.0</td>\n",
       "      <td>0.9955</td>\n",
       "    </tr>\n",
       "  </tbody>\n",
       "</table>\n",
       "</div>"
      ],
      "text/plain": [
       "   id_game                        name  n_genres  n_platforms  n_tags  \\\n",
       "0     4200                    Portal 2         2            6      25   \n",
       "1     3328    The Witcher 3: Wild Hunt         2            7      20   \n",
       "2     3498          Grand Theft Auto V         1            7      19   \n",
       "3    58175           God of War (2018)         1            2      27   \n",
       "4     4062           BioShock Infinite         2            7      21   \n",
       "5     2462  Uncharted 4: A Thief’s End         2            2       3   \n",
       "6       28       Red Dead Redemption 2         1            3      33   \n",
       "7    58134         Marvel's Spider-Man         1            3      14   \n",
       "8     5286          Tomb Raider (2013)         1            6      17   \n",
       "9     3636   The Last Of Us Remastered         2            1       9   \n",
       "\n",
       "   esrb_rating_id  release_year  success_score  \n",
       "0             2.0        2011.0         1.0373  \n",
       "1             4.0        2015.0         1.0247  \n",
       "2             4.0        2013.0         1.0237  \n",
       "3             4.0        2018.0         1.0155  \n",
       "4             4.0        2013.0         1.0091  \n",
       "5             3.0        2016.0         0.9980  \n",
       "6             4.0        2018.0         0.9969  \n",
       "7             3.0        2018.0         0.9959  \n",
       "8             4.0        2013.0         0.9958  \n",
       "9             4.0        2014.0         0.9955  "
      ]
     },
     "metadata": {},
     "output_type": "display_data"
    }
   ],
   "source": [
    "print(\"Primeras 10 filas del dataset final:\")\n",
    "display(df_final.head(10))"
   ]
  },
  {
   "cell_type": "code",
   "execution_count": 58,
   "id": "32f9b1ae",
   "metadata": {},
   "outputs": [
    {
     "name": "stdout",
     "output_type": "stream",
     "text": [
      "Estadisticas descriptivas del dataset final:\n"
     ]
    },
    {
     "data": {
      "text/html": [
       "<div>\n",
       "<style scoped>\n",
       "    .dataframe tbody tr th:only-of-type {\n",
       "        vertical-align: middle;\n",
       "    }\n",
       "\n",
       "    .dataframe tbody tr th {\n",
       "        vertical-align: top;\n",
       "    }\n",
       "\n",
       "    .dataframe thead th {\n",
       "        text-align: right;\n",
       "    }\n",
       "</style>\n",
       "<table border=\"1\" class=\"dataframe\">\n",
       "  <thead>\n",
       "    <tr style=\"text-align: right;\">\n",
       "      <th></th>\n",
       "      <th>id_game</th>\n",
       "      <th>n_genres</th>\n",
       "      <th>n_platforms</th>\n",
       "      <th>n_tags</th>\n",
       "      <th>esrb_rating_id</th>\n",
       "      <th>release_year</th>\n",
       "      <th>success_score</th>\n",
       "    </tr>\n",
       "  </thead>\n",
       "  <tbody>\n",
       "    <tr>\n",
       "      <th>count</th>\n",
       "      <td>7.627200e+04</td>\n",
       "      <td>76272.000000</td>\n",
       "      <td>76272.000000</td>\n",
       "      <td>76272.000000</td>\n",
       "      <td>17163.000000</td>\n",
       "      <td>76272.000000</td>\n",
       "      <td>76272.000000</td>\n",
       "    </tr>\n",
       "    <tr>\n",
       "      <th>mean</th>\n",
       "      <td>3.326135e+05</td>\n",
       "      <td>2.103970</td>\n",
       "      <td>1.722834</td>\n",
       "      <td>8.903110</td>\n",
       "      <td>2.586960</td>\n",
       "      <td>2017.806482</td>\n",
       "      <td>0.263999</td>\n",
       "    </tr>\n",
       "    <tr>\n",
       "      <th>std</th>\n",
       "      <td>3.407556e+05</td>\n",
       "      <td>1.328006</td>\n",
       "      <td>1.210024</td>\n",
       "      <td>7.471555</td>\n",
       "      <td>1.045491</td>\n",
       "      <td>3.616108</td>\n",
       "      <td>0.157904</td>\n",
       "    </tr>\n",
       "    <tr>\n",
       "      <th>min</th>\n",
       "      <td>1.000000e+00</td>\n",
       "      <td>0.000000</td>\n",
       "      <td>0.000000</td>\n",
       "      <td>0.000000</td>\n",
       "      <td>1.000000</td>\n",
       "      <td>2010.000000</td>\n",
       "      <td>0.065100</td>\n",
       "    </tr>\n",
       "    <tr>\n",
       "      <th>25%</th>\n",
       "      <td>2.391250e+04</td>\n",
       "      <td>1.000000</td>\n",
       "      <td>1.000000</td>\n",
       "      <td>3.000000</td>\n",
       "      <td>2.000000</td>\n",
       "      <td>2016.000000</td>\n",
       "      <td>0.165100</td>\n",
       "    </tr>\n",
       "    <tr>\n",
       "      <th>50%</th>\n",
       "      <td>2.325910e+05</td>\n",
       "      <td>2.000000</td>\n",
       "      <td>1.000000</td>\n",
       "      <td>7.000000</td>\n",
       "      <td>2.000000</td>\n",
       "      <td>2018.000000</td>\n",
       "      <td>0.205000</td>\n",
       "    </tr>\n",
       "    <tr>\n",
       "      <th>75%</th>\n",
       "      <td>6.073620e+05</td>\n",
       "      <td>3.000000</td>\n",
       "      <td>2.000000</td>\n",
       "      <td>14.000000</td>\n",
       "      <td>3.000000</td>\n",
       "      <td>2021.000000</td>\n",
       "      <td>0.307800</td>\n",
       "    </tr>\n",
       "    <tr>\n",
       "      <th>max</th>\n",
       "      <td>1.006738e+06</td>\n",
       "      <td>12.000000</td>\n",
       "      <td>22.000000</td>\n",
       "      <td>70.000000</td>\n",
       "      <td>6.000000</td>\n",
       "      <td>2024.000000</td>\n",
       "      <td>1.037300</td>\n",
       "    </tr>\n",
       "  </tbody>\n",
       "</table>\n",
       "</div>"
      ],
      "text/plain": [
       "            id_game      n_genres   n_platforms        n_tags  esrb_rating_id  \\\n",
       "count  7.627200e+04  76272.000000  76272.000000  76272.000000    17163.000000   \n",
       "mean   3.326135e+05      2.103970      1.722834      8.903110        2.586960   \n",
       "std    3.407556e+05      1.328006      1.210024      7.471555        1.045491   \n",
       "min    1.000000e+00      0.000000      0.000000      0.000000        1.000000   \n",
       "25%    2.391250e+04      1.000000      1.000000      3.000000        2.000000   \n",
       "50%    2.325910e+05      2.000000      1.000000      7.000000        2.000000   \n",
       "75%    6.073620e+05      3.000000      2.000000     14.000000        3.000000   \n",
       "max    1.006738e+06     12.000000     22.000000     70.000000        6.000000   \n",
       "\n",
       "       release_year  success_score  \n",
       "count  76272.000000   76272.000000  \n",
       "mean    2017.806482       0.263999  \n",
       "std        3.616108       0.157904  \n",
       "min     2010.000000       0.065100  \n",
       "25%     2016.000000       0.165100  \n",
       "50%     2018.000000       0.205000  \n",
       "75%     2021.000000       0.307800  \n",
       "max     2024.000000       1.037300  "
      ]
     },
     "metadata": {},
     "output_type": "display_data"
    }
   ],
   "source": [
    "print(\"Estadisticas descriptivas del dataset final:\")\n",
    "display(df_final.describe())"
   ]
  },
  {
   "cell_type": "markdown",
   "id": "a366ce2e",
   "metadata": {
    "cell_marker": "\"\"\"",
    "lines_to_next_cell": 0
   },
   "source": [
    "## 10. Visualizaciones del dataset final"
   ]
  },
  {
   "cell_type": "code",
   "execution_count": 59,
   "id": "86d333d2",
   "metadata": {},
   "outputs": [
    {
     "data": {
      "image/png": "[encoded data removed]",
      "text/plain": [
       "<Figure size 1200x400 with 2 Axes>"
      ]
     },
     "metadata": {},
     "output_type": "display_data"
    }
   ],
   "source": [
    "# Distribución del success_score\n",
    "plt.figure(figsize=(12, 4))\n",
    "\n",
    "plt.subplot(1, 2, 1)\n",
    "plt.hist(df_final['success_score'], bins=50, alpha=0.7, color='skyblue', edgecolor='black')\n",
    "plt.title('Distribución del Success Score')\n",
    "plt.xlabel('Success Score')\n",
    "plt.ylabel('Frecuencia')\n",
    "\n",
    "plt.subplot(1, 2, 2)\n",
    "plt.boxplot(df_final['success_score'])\n",
    "plt.title('Boxplot del Success Score')\n",
    "plt.ylabel('Success Score')\n",
    "\n",
    "plt.tight_layout()\n",
    "plt.show()"
   ]
  },
  {
   "cell_type": "code",
   "execution_count": 60,
   "id": "7bb2b5d4",
   "metadata": {},
   "outputs": [
    {
     "data": {
      "image/png": "[encoded data removed]",
      "text/plain": [
       "<Figure size 800x600 with 2 Axes>"
      ]
     },
     "metadata": {},
     "output_type": "display_data"
    }
   ],
   "source": [
    "# Correlación entre features de diseño\n",
    "design_features = ['n_genres', 'n_platforms', 'n_tags', 'release_year', 'success_score']\n",
    "df_corr_matrix = df_final[design_features].corr()\n",
    "\n",
    "plt.figure(figsize=(8, 6))\n",
    "sns.heatmap(df_corr_matrix, annot=True, cmap='coolwarm', center=0, \n",
    "            square=True, linewidths=0.5)\n",
    "plt.title('Matriz de correlación - Features de diseño')\n",
    "plt.tight_layout()\n",
    "plt.show()"
   ]
  },
  {
   "cell_type": "markdown",
   "id": "e68105f8",
   "metadata": {
    "cell_marker": "\"\"\"",
    "lines_to_next_cell": 0
   },
   "source": [
    "## 11. Exportación del dataset final"
   ]
  },
  {
   "cell_type": "code",
   "execution_count": null,
   "id": "3f7b26a4",
   "metadata": {},
   "outputs": [],
   "source": [
    "# Crear directorio Data si no existe\n",
    "data_dir = \"/Users/alexg.herrera/Desktop/HackABoss/Proyecto-RAWG/Data\"\n",
    "os.makedirs(data_dir, exist_ok=True)\n",
    "\n",
    "# Guardar en múltiples formatos\n",
    "csv_path = os.path.join(data_dir, \"training_dataset_final.csv\")\n",
    "parquet_path = os.path.join(data_dir, \"training_dataset_final.parquet\")\n",
    "\n",
    "# Guardar archivos\n",
    "df_final.to_csv(csv_path, index=False)\n",
    "df_final.to_parquet(parquet_path, index=False)\n",
    "\n",
    "# Validar que los archivos se guardaron correctamente\n",
    "try:\n",
    "    # Verificar CSV\n",
    "    df_csv_check = pd.read_csv(csv_path, nrows=5)\n",
    "    csv_size = os.path.getsize(csv_path) / (1024*1024)  # MB\n",
    "    \n",
    "    # Verificar Parquet\n",
    "    df_parquet_check = pd.read_parquet(parquet_path)\n",
    "    parquet_size = os.path.getsize(parquet_path) / (1024*1024)  # MB\n",
    "    \n",
    "    print(f\"Dataset guardado exitosamente:\")\n",
    "    print(f\"   CSV: {csv_path} ({csv_size:.2f} MB)\")\n",
    "    print(f\"   Parquet: {parquet_path} ({parquet_size:.2f} MB)\")\n",
    "    print(f\"   Dimensiones: {df_final.shape}\")\n",
    "    print(f\"   Features de diseno: {list(df_final.columns[2:-1])}\")\n",
    "    print(f\"   Target: success_score\")\n",
    "    \n",
    "    print(\"\\nMuestra del archivo CSV guardado:\")\n",
    "    display(df_csv_check)\n",
    "    \n",
    "except Exception as e:\n",
    "    print(f\"[ERROR] Error validando archivos guardados: {e}\")"
   ]
  },
  {
   "cell_type": "markdown",
   "id": "52915809",
   "metadata": {
    "cell_marker": "\"\"\""
   },
   "source": [
    "## 12. Resumen final y próximos pasos\n",
    "\n",
    "### Logros del EDA:\n",
    "1. **Validación de calidad**: Análisis completo de nulos y filtros aplicados\n",
    "2. **Exploración temporal**: Justificación del rango 2010-2024\n",
    "3. **Análisis de engagement**: Correlaciones clave identificadas\n",
    "4. **Features de diseño**: Selección y justificación de 5 variables predictivas\n",
    "5. **Target robusto**: Success score que combina múltiples métricas de éxito\n",
    "6. **Dataset final**: 76,000+ juegos listos para modelado\n",
    "\n",
    "### Características del dataset final:\n",
    "- **Features de diseño**: n_genres, n_platforms, n_tags, esrb_rating_id, release_year\n",
    "- **Target continuo**: success_score (0-1)\n",
    "- **Sin data leakage**: Solo información disponible en fase de diseño\n",
    "- **Calidad garantizada**: Filtros de completitud y relevancia temporal\n",
    "- **Tamaño optimizado**: ~76,000 juegos tras aplicar filtros de calidad\n",
    "\n",
    "### Próximos pasos:\n",
    "1. **Entrenamiento de modelos**: XGBoost, Red Neuronal, Random Forest\n",
    "2. **Evaluación y comparación**: RMSE, MAE, R²\n",
    "3. **Feature importance**: Análisis de variables más predictivas\n",
    "4. **Optimización**: Hyperparameter tuning y validación cruzada\n",
    "5. **Deployment**: Pipeline de predicción para diseñadores\n",
    "\n",
    ">**Conclusión**: El dataset está optimizado para predecir el éxito de videojuegos usando únicamente información de diseño, maximizando la utilidad para estudios de desarrollo y permitiendo decisiones informadas en la fase de planificación de juegos."
   ]
  },
  {
   "cell_type": "markdown",
   "id": "cf55017a",
   "metadata": {},
   "source": []
  }
 ],
 "metadata": {
  "jupytext": {
   "cell_metadata_filter": "-all",
   "main_language": "python",
   "notebook_metadata_filter": "-all"
  },
  "language_info": {
   "name": "python"
  }
 },
 "nbformat": 4,
 "nbformat_minor": 5
}
